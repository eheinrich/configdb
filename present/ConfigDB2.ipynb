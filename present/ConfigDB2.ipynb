{
 "cells": [
  {
   "cell_type": "markdown",
   "metadata": {
    "slideshow": {
     "slide_type": "slide"
    }
   },
   "source": [
    "\n",
    "# ConfigDB2\n",
    "\n",
    "## A central location for hardware configuration"
   ]
  },
  {
   "cell_type": "markdown",
   "metadata": {
    "slideshow": {
     "slide_type": "slide"
    }
   },
   "source": [
    "# Why?\n",
    "\n",
    "Many defintions of the physical network scattered across the organization which are inconsistent and errornous. \n",
    "\n",
    "* Inconsistent data causes interoperability errors\n",
    "* Any change in hardware must be reflected in software in several places\n",
    "* Cognitive overhead\n",
    "* Time sink (Sedgwick)"
   ]
  },
  {
   "cell_type": "markdown",
   "metadata": {
    "slideshow": {
     "slide_type": "slide"
    }
   },
   "source": [
    "# Single source of truth\n",
    "\n",
    "A sigle source of information about the physical state of the network\n",
    "\n",
    "* Removes hardcoded definitions of the network from software\n",
    "* Hardware updates can be done fastwe with less risk\n",
    "* Everyone is on the same page\n",
    "* Easy to understand"
   ]
  },
  {
   "cell_type": "markdown",
   "metadata": {
    "slideshow": {
     "slide_type": "slide"
    }
   },
   "source": [
    "# Configdb2\n",
    "\n",
    "A demonstration of an application that provides an API, camera_mappings file, and visual information about the network."
   ]
  },
  {
   "cell_type": "code",
   "execution_count": 29,
   "metadata": {
    "collapsed": false,
    "slideshow": {
     "slide_type": "slide"
    }
   },
   "outputs": [
    {
     "name": "stdout",
     "output_type": "stream",
     "text": [
      "15 sites at LCOGT:\n",
      "BPL Back Parking Lot\n",
      "COJ Siding Spring\n",
      "CPT Sutherland, South Africa\n",
      "DOX Yarragadee, Australia\n",
      "ELP McDonald, Texas\n",
      "LSC Cerro Tololo, Chile\n",
      "NGQ Ali, Tibet, China\n",
      "OGG Maui\n",
      "OLS Tenagra, Arizona\n",
      "SBA Santa Barbara\n"
     ]
    }
   ],
   "source": [
    "import requests\n",
    "\n",
    "HOST = 'http://docknode05.lco.gtn:8700'\n",
    "\n",
    "sites = requests.get(HOST + '/sites').json()\n",
    "print(sites['count'], \"sites at LCOGT:\")\n",
    "for site in sites['results']:\n",
    "    print(site['code'], site['name'])\n",
    "\n",
    "\n"
   ]
  },
  {
   "cell_type": "code",
   "execution_count": 14,
   "metadata": {
    "collapsed": false,
    "slideshow": {
     "slide_type": "subslide"
    }
   },
   "outputs": [
    {
     "name": "stdout",
     "output_type": "stream",
     "text": [
      "20.7069444444 -156.258055556\n",
      "clma - ASAS-SN North\n",
      "clma - Faulkes Telescope North\n"
     ]
    }
   ],
   "source": [
    "OGG = requests.get(HOST + '/sites?code=OGG').json()['results'][0]\n",
    "print(OGG['latitude'], OGG['longitude'])\n",
    "\n",
    "for enclosure in OGG['enclosure_set']:\n",
    "    for telescope in enclosure['telescope_set']:\n",
    "        print(enclosure['code'], '-', telescope['name'])\n"
   ]
  },
  {
   "cell_type": "code",
   "execution_count": 39,
   "metadata": {
    "collapsed": false,
    "slideshow": {
     "slide_type": "subslide"
    }
   },
   "outputs": [
    {
     "name": "stdout",
     "output_type": "stream",
     "text": [
      "CPT Dome A 1m Autoguider\n",
      "    ef02\n",
      "CPT Dome A 1m Science Camera\n",
      "    kb70\n",
      "CPT Dome B 1m Autoguider\n",
      "    ef03\n",
      "CPT Dome B 1m Science Camera\n",
      "    kb76\n",
      "CPT Dome C 1m Autoguider\n",
      "    ef04\n",
      "CPT Dome C 1m Science Camera\n",
      "    kb75\n",
      "extCam-06\n",
      "    kb21\n",
      "extCam-07\n",
      "    kb14\n",
      "extCam-08\n",
      "    kb12\n"
     ]
    }
   ],
   "source": [
    "instruments = requests.get(HOST + '/instruments?site=10').json()['results']\n",
    "for instrument in instruments:\n",
    "    print(instrument['name'])\n",
    "    for camera in instrument['camera_set']:\n",
    "        print('   ', camera['code'])"
   ]
  },
  {
   "cell_type": "code",
   "execution_count": 37,
   "metadata": {
    "collapsed": false,
    "slideshow": {
     "slide_type": "subslide"
    }
   },
   "outputs": [
    {
     "name": "stdout",
     "output_type": "stream",
     "text": [
      "overhead :  2.62144\n",
      "standard_binning :  None\n",
      "camera :  17\n",
      "namps :  1\n",
      "plate_scale :  618.795\n",
      "default_mode :  None\n",
      "type :  KAF-1001E\n",
      "id :  20\n",
      "nypix :  1024\n",
      "pixsize :  24.0\n",
      "serial :  ccdkb53-01\n",
      "settemp :  243.0\n",
      "nxpix :  1024\n",
      "mode_set :  [{'pre_ypix': 0, 'image_xpix': 1024, 'image_ypix': 1024, 'pre_xpix': 0, 'nampsused': 1, 'id': 1, 'speed': 400000.0, 'post_xpix': 0, 'name': 'kb53 bin1x1', 'gain': 2.2, 'binning': '1x1', 'ron': 15.0, 'post_ypix': 0, 'detector': 20}]\n",
      "field_of_view :  [633646.08, 633646.08]\n"
     ]
    }
   ],
   "source": [
    "detector = requests.get(\n",
    "    HOST + '/detectors?serial=ccdkb53-01').json()['results'][0]\n",
    "for k,v in detector.items():\n",
    "    print(k, ': ', v)\n"
   ]
  },
  {
   "cell_type": "code",
   "execution_count": null,
   "metadata": {
    "collapsed": true
   },
   "outputs": [],
   "source": []
  }
 ],
 "metadata": {
  "celltoolbar": "Slideshow",
  "kernelspec": {
   "display_name": "Python 3",
   "language": "python",
   "name": "python3"
  },
  "language_info": {
   "codemirror_mode": {
    "name": "ipython",
    "version": 3
   },
   "file_extension": ".py",
   "mimetype": "text/x-python",
   "name": "python",
   "nbconvert_exporter": "python",
   "pygments_lexer": "ipython3",
   "version": "3.4.3"
  }
 },
 "nbformat": 4,
 "nbformat_minor": 0
}
